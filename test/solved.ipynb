{
 "cells": [
  {
   "metadata": {},
   "cell_type": "markdown",
   "source": "## Задача 1 (10 баллов)",
   "id": "4a3e7b9530b1bbe4"
  },
  {
   "metadata": {},
   "cell_type": "markdown",
   "source": [
    "Подзадача 1:\n",
    "Найдите математическое ожидание N(0, 1)"
   ],
   "id": "42d64839d4708202"
  },
  {
   "metadata": {},
   "cell_type": "markdown",
   "source": [
    "Решение: Поскольку величина имеет симметричное распределение, то среднее равно 0. (Понятно ведь что интеграл сходится вообще). \n",
    "давайте проверим это кодом."
   ],
   "id": "be6ea6b586aca63e"
  },
  {
   "metadata": {
    "ExecuteTime": {
     "end_time": "2025-01-24T13:05:43.726897Z",
     "start_time": "2025-01-24T13:05:42.636905Z"
    }
   },
   "cell_type": "code",
   "source": [
    "import numpy as np\n",
    "sample = np.random.normal(0, 1, 100000)\n",
    "mean = np.mean(sample)\n",
    "print(mean)"
   ],
   "id": "9bd91352495857b8",
   "outputs": [
    {
     "name": "stdout",
     "output_type": "stream",
     "text": [
      "0.006602274656301356\n"
     ]
    }
   ],
   "execution_count": 1
  },
  {
   "metadata": {},
   "cell_type": "markdown",
   "source": "Видим, что наша гипотеза что среднее 0 - правдоподобна.",
   "id": "d408aaa5602be9dc"
  },
  {
   "metadata": {},
   "cell_type": "markdown",
   "source": [
    "Подзадание 2:\n",
    "Найдите дисперсию N(0, 1)"
   ],
   "id": "56006f00f0e1d2c0"
  },
  {
   "metadata": {},
   "cell_type": "markdown",
   "source": [
    "Решение:\n",
    "Дисперсия равна sigma^2 = 1."
   ],
   "id": "8234bc31d1ce8d33"
  }
 ],
 "metadata": {
  "kernelspec": {
   "display_name": "Python 3",
   "language": "python",
   "name": "python3"
  },
  "language_info": {
   "codemirror_mode": {
    "name": "ipython",
    "version": 2
   },
   "file_extension": ".py",
   "mimetype": "text/x-python",
   "name": "python",
   "nbconvert_exporter": "python",
   "pygments_lexer": "ipython2",
   "version": "2.7.6"
  }
 },
 "nbformat": 4,
 "nbformat_minor": 5
}
