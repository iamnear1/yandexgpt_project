{
 "cells": [
  {
   "metadata": {},
   "cell_type": "markdown",
   "source": "## Задача 1 (10 баллов)",
   "id": "decfe21bc99e9cb9"
  },
  {
   "metadata": {},
   "cell_type": "markdown",
   "source": [
    "Подзадача 1:\n",
    "Найдите математическое ожидание N(0, 1)"
   ],
   "id": "42d64839d4708202"
  },
  {
   "metadata": {},
   "cell_type": "markdown",
   "source": "Решение:",
   "id": "be6ea6b586aca63e"
  },
  {
   "metadata": {},
   "cell_type": "markdown",
   "source": [
    "Подзадание 2:\n",
    "Найдите дисперсию N(0, 1)"
   ],
   "id": "56006f00f0e1d2c0"
  },
  {
   "metadata": {},
   "cell_type": "markdown",
   "source": "Решение:",
   "id": "8234bc31d1ce8d33"
  }
 ],
 "metadata": {
  "kernelspec": {
   "display_name": "Python 3",
   "language": "python",
   "name": "python3"
  },
  "language_info": {
   "codemirror_mode": {
    "name": "ipython",
    "version": 2
   },
   "file_extension": ".py",
   "mimetype": "text/x-python",
   "name": "python",
   "nbconvert_exporter": "python",
   "pygments_lexer": "ipython2",
   "version": "2.7.6"
  }
 },
 "nbformat": 4,
 "nbformat_minor": 5
}
